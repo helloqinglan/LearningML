{
  "nbformat": 4,
  "nbformat_minor": 0,
  "metadata": {
    "colab": {
      "name": "1-Helloworld.ipynb",
      "version": "0.3.2",
      "provenance": [],
      "collapsed_sections": [],
      "include_colab_link": true
    },
    "kernelspec": {
      "name": "python3",
      "display_name": "Python 3"
    }
  },
  "cells": [
    {
      "cell_type": "markdown",
      "metadata": {
        "id": "view-in-github",
        "colab_type": "text"
      },
      "source": [
        "[View in Colaboratory](https://colab.research.google.com/github/helloqinglan/LearningML/blob/master/1-Helloworld.ipynb)"
      ]
    },
    {
      "metadata": {
        "id": "v8ffreV825Xz",
        "colab_type": "text"
      },
      "cell_type": "markdown",
      "source": [
        "## TensoFflow的环境安装与配置\n",
        "TensorfFow是机器学习领域最为熟知的开源库。[TensorFlow官方文档](https://www.tensorflow.org/install/install_windows)描述的安装方法有两种：\n",
        "- \"原生\"pip\n",
        "- Anaconda\n",
        "虽说官方表示Anaconda版本的TensorFlow由社区维护，没有任何官方支持，但是[Google Developers](https://www.youtube.com/watch?v=cKxRvEZd3Mw) Youtube频道上的新手入门指导里，推荐的还是Anaconda。\n",
        "Anaconda + Jupyter notebooks\n",
        "- 修改notebooks工作目录\n",
        "- 安装机器学习相关的库\n",
        "\n",
        "使用Google Colaboratory\n",
        "- 修改Jupyter notebooks配置以支持colaboratory\n",
        "- 将文件存储到Google Driver\n",
        "- 将文件分享到Github"
      ]
    },
    {
      "metadata": {
        "id": "nASwY6qwaDKa",
        "colab_type": "code",
        "colab": {
          "base_uri": "https://localhost:8080/",
          "height": 35
        },
        "outputId": "7e8039f4-f6e0-4071-9a24-da15829a129e"
      },
      "cell_type": "code",
      "source": [
        "import tensorflow as tf\n",
        "hello = tf.constant('Hello, TensorFlow!')\n",
        "sess = tf.Session()\n",
        "print(sess.run(hello))"
      ],
      "execution_count": 1,
      "outputs": [
        {
          "output_type": "stream",
          "text": [
            "b'Hello, TensorFlow!'\n"
          ],
          "name": "stdout"
        }
      ]
    },
    {
      "metadata": {
        "id": "jZfwYAnVEghn",
        "colab_type": "code",
        "colab": {
          "base_uri": "https://localhost:8080/",
          "height": 35
        },
        "outputId": "806a9448-57b1-46e2-93c1-e52720a7cc39"
      },
      "cell_type": "code",
      "source": [
        "# Sample 1\n",
        "# 使用决策树来预测对象的类型\n",
        "# scikit-learn\n",
        "from sklearn import tree\n",
        "\n",
        "# 特征集\n",
        "features = [[140, 1], [130, 1], [150, 0], [170, 0]]\n",
        "\n",
        "# 标签\n",
        "labels = [0, 0, 1, 1]\n",
        "\n",
        "# 训练 (fit means find patterns in data)\n",
        "clf = tree.DecisionTreeClassifier()\n",
        "clf = clf.fit(features, labels)\n",
        "\n",
        "# 预测\n",
        "print(clf.predict([[160, 0]]))"
      ],
      "execution_count": 2,
      "outputs": [
        {
          "output_type": "stream",
          "text": [
            "[1]\n"
          ],
          "name": "stdout"
        }
      ]
    },
    {
      "metadata": {
        "id": "9KNkIpmSGNpS",
        "colab_type": "text"
      },
      "cell_type": "markdown",
      "source": [
        "各种类型的Classifiers\n",
        "- Artificial neural network\n",
        "- Support Vector Machine\n",
        "决策树是最简单的分类器"
      ]
    },
    {
      "metadata": {
        "id": "AQmHlgHOHCLj",
        "colab_type": "code",
        "colab": {
          "base_uri": "https://localhost:8080/",
          "height": 125
        },
        "outputId": "e34cf11c-3683-41b4-fd09-3f85d1fd1b07"
      },
      "cell_type": "code",
      "source": [
        "# 预测鸢尾花的类型\n",
        "# scikit-learn库中自带了一些数据, 可以直接拿来使用\n",
        "import numpy as np\n",
        "from sklearn.datasets import load_iris\n",
        "from sklearn import tree\n",
        "\n",
        "iris = load_iris()\n",
        "\n",
        "print(iris.feature_names)\n",
        "print(iris.target_names)\n",
        "print(iris.data[0])\n",
        "print(iris.target[0])\n",
        "\n",
        "# 从数据中移除三项, 用来做训练之后的测试\n",
        "test_idx = [0, 50, 100]\n",
        "\n",
        "# training data\n",
        "train_target = np.delete(iris.target, test_idx)\n",
        "train_data = np.delete(iris.data, test_idx, axis=0)\n",
        "\n",
        "# testing data\n",
        "test_target = iris.target[test_idx]\n",
        "test_data = iris.data[test_idx]\n",
        "\n",
        "# 训练\n",
        "clf = tree.DecisionTreeClassifier()\n",
        "clf = clf.fit(train_data, train_target)\n",
        "\n",
        "# 验证预测结果是否正确\n",
        "print(test_target)\n",
        "print(clf.predict(test_data))"
      ],
      "execution_count": 9,
      "outputs": [
        {
          "output_type": "stream",
          "text": [
            "['sepal length (cm)', 'sepal width (cm)', 'petal length (cm)', 'petal width (cm)']\n",
            "['setosa' 'versicolor' 'virginica']\n",
            "[5.1 3.5 1.4 0.2]\n",
            "0\n",
            "[0 1 2]\n",
            "[0 1 2]\n"
          ],
          "name": "stdout"
        }
      ]
    },
    {
      "metadata": {
        "id": "DInstPjbMXdZ",
        "colab_type": "text"
      },
      "cell_type": "markdown",
      "source": [
        "### 怎样选择特征集\n",
        "- feature要能够区分不同的标签\n",
        "- 特征集要足够多，有些特征在一定条件下能够区分标签，但不是所有条件下都有用，所以要有不同类型的特征\n",
        "- 特征之间应该尽可能的独立，这样他们才能给出更多信息 (avoid redundant features)\n",
        "- 特征应该容易理解 (easy to be understand)"
      ]
    },
    {
      "metadata": {
        "id": "QvleV5pHfoiJ",
        "colab_type": "code",
        "colab": {
          "base_uri": "https://localhost:8080/",
          "height": 35
        },
        "outputId": "92ff3fb0-12fc-41ee-b9f1-f3da0135dae1"
      },
      "cell_type": "code",
      "source": [
        "from sklearn import datasets\n",
        "iris = datasets.load_iris()\n",
        "\n",
        "X = iris.data\n",
        "y = iris.target\n",
        "\n",
        "from sklearn.cross_validation import train_test_split\n",
        "X_train, X_test, y_train, y_test = train_test_split(X, y, test_size = .5)\n",
        "\n",
        "from sklearn import tree\n",
        "my_classifier = tree.DecisionTreeClassifier()\n",
        "\n",
        "my_classifier.fit(X_train, y_train)\n",
        "\n",
        "predictions = my_classifier.predict(X_test)\n",
        "\n",
        "from sklearn.metrics import accuracy_score\n",
        "print(accuracy_score(y_test, predictions))"
      ],
      "execution_count": 11,
      "outputs": [
        {
          "output_type": "stream",
          "text": [
            "0.96\n"
          ],
          "name": "stdout"
        }
      ]
    },
    {
      "metadata": {
        "id": "TtekBKVUi7e2",
        "colab_type": "text"
      },
      "cell_type": "markdown",
      "source": [
        "### Writting our first Classifier\n",
        "一个随机的分类器"
      ]
    },
    {
      "metadata": {
        "id": "QwVRhBPxjB82",
        "colab_type": "code",
        "colab": {
          "base_uri": "https://localhost:8080/",
          "height": 35
        },
        "outputId": "fd98af8e-8007-4a81-81d3-75273795fb50"
      },
      "cell_type": "code",
      "source": [
        "import random\n",
        "\n",
        "class ScrappyKNN():\n",
        "  def fit(self, X_train, y_train):\n",
        "    self.X_train = X_train\n",
        "    self.y_train = y_train\n",
        "  \n",
        "  def predict(self, X_test):\n",
        "    predictions = []\n",
        "    for row in X_test:\n",
        "      label = random.choice(self.y_train)\n",
        "      predictions.append(label)\n",
        "    return predictions\n",
        "\n",
        "from sklearn import datasets\n",
        "iris = datasets.load_iris()\n",
        "\n",
        "X = iris.data\n",
        "y = iris.target\n",
        "\n",
        "from sklearn.cross_validation import train_test_split\n",
        "X_train, X_test, y_train, y_test = train_test_split(X, y, test_size = .5)\n",
        "\n",
        "my_classifier = ScrappyKNN()\n",
        "\n",
        "my_classifier.fit(X_train, y_train)\n",
        "\n",
        "predictions = my_classifier.predict(X_test)\n",
        "\n",
        "from sklearn.metrics import accuracy_score\n",
        "print(accuracy_score(y_test, predictions))"
      ],
      "execution_count": 13,
      "outputs": [
        {
          "output_type": "stream",
          "text": [
            "0.36\n"
          ],
          "name": "stdout"
        }
      ]
    },
    {
      "metadata": {
        "id": "Qr-M2F8nkmPI",
        "colab_type": "text"
      },
      "cell_type": "markdown",
      "source": [
        "### 优化：使用k-Nearest Neighbors算法实现分类器\n",
        "算法描述：从特征集中找最近的k个特征，取出现次数最多的标签"
      ]
    },
    {
      "metadata": {
        "id": "ao23_yi3kwC1",
        "colab_type": "code",
        "colab": {
          "base_uri": "https://localhost:8080/",
          "height": 35
        },
        "outputId": "e7a41ca7-4610-4ce6-a279-732fa0f4d67d"
      },
      "cell_type": "code",
      "source": [
        "from scipy.spatial import distance\n",
        "\n",
        "def euc(a, b):\n",
        "  return distance.euclidean(a, b)\n",
        "\n",
        "class ScrappyKNN():\n",
        "  def fit(self, X_train, y_train):\n",
        "    self.X_train = X_train\n",
        "    self.y_train = y_train\n",
        "  \n",
        "  def predict(self, X_test):\n",
        "    predictions = []\n",
        "    for row in X_test:\n",
        "      label = self.closest(row)\n",
        "      predictions.append(label)\n",
        "    return predictions\n",
        "  \n",
        "  def closest(self, row):\n",
        "    best_dist = euc(row, self.X_train[0])\n",
        "    best_index = 0\n",
        "    for i in range(1, len(self.X_train)):\n",
        "      dist = euc(row, self.X_train[i])\n",
        "      if dist < best_dist:\n",
        "        best_dist = dist\n",
        "        best_index = i\n",
        "    return self.y_train[best_index]\n",
        "\n",
        "from sklearn import datasets\n",
        "iris = datasets.load_iris()\n",
        "\n",
        "X = iris.data\n",
        "y = iris.target\n",
        "\n",
        "from sklearn.cross_validation import train_test_split\n",
        "X_train, X_test, y_train, y_test = train_test_split(X, y, test_size = .5)\n",
        "\n",
        "my_classifier = ScrappyKNN()\n",
        "\n",
        "my_classifier.fit(X_train, y_train)\n",
        "\n",
        "predictions = my_classifier.predict(X_test)\n",
        "\n",
        "from sklearn.metrics import accuracy_score\n",
        "print(accuracy_score(y_test, predictions))"
      ],
      "execution_count": 14,
      "outputs": [
        {
          "output_type": "stream",
          "text": [
            "0.9066666666666666\n"
          ],
          "name": "stdout"
        }
      ]
    },
    {
      "metadata": {
        "id": "RIDaYc8fsQG9",
        "colab_type": "text"
      },
      "cell_type": "markdown",
      "source": [
        "### TensorFlow for Poets\n",
        "尤其擅长于做图像识别，属于Deep Learning\n",
        "\n",
        "### TF Learn\n",
        "- High level ML library on top of TensorfFow\n",
        "- similar to scikit-learn\n",
        "\n",
        "### Inception\n",
        "- one of Google's best image Classifiers\n",
        "- open source\n",
        "- trained on 1.2 million images\n",
        "- training took 2 weeks\n",
        "\n",
        "### Retraining\n",
        "- also known as Transfer Learning\n",
        "- saves a lot of time\n",
        "- leverages prior work"
      ]
    },
    {
      "metadata": {
        "id": "awZRdGHAIFNa",
        "colab_type": "text"
      },
      "cell_type": "markdown",
      "source": [
        "### Classifying Handwritten Digits with TF.Learn\n"
      ]
    },
    {
      "metadata": {
        "id": "oRf-R0CpKsRC",
        "colab_type": "code",
        "colab": {
          "base_uri": "https://localhost:8080/",
          "height": 370
        },
        "outputId": "01429b57-2b35-4084-ed22-2eeef26bc51e"
      },
      "cell_type": "code",
      "source": [
        "import numpy as np\n",
        "import matplotlib.pyplot as plt\n",
        "%matplotlib inline\n",
        "import tensorflow as tf\n",
        "learn = tf.contrib.learn\n",
        "tf.logging.set_verbosity(tf.logging.ERROR)\n",
        "\n",
        "mnist = learn.datasets.load_dataset('mnist')\n",
        "data = mnist.train.images\n",
        "labels = np.asarray(mnist.train.labels, dtype=np.int32)\n",
        "test_data = mnist.test.images\n",
        "test_labels = np.asarray(mnist.test.labels, dtype=np.int32)\n",
        "\n",
        "# There are 55k examples in train, and 10k in eval. You may wish to limit the size to experiment faster.\n",
        "max_examples = 10000\n",
        "data = data[:max_examples]\n",
        "labels = labels[:max_examples]\n",
        "\n",
        "def display(i):\n",
        "    img = test_data[i]\n",
        "    plt.title('Example %d. Label: %d' % (i, test_labels[i]))\n",
        "    plt.imshow(img.reshape((28,28)), cmap=plt.cm.gray_r)\n",
        "    \n",
        "display(0)\n",
        "\n",
        "feature_columns = learn.infer_real_valued_columns_from_input(data)\n",
        "classifier = learn.LinearClassifier(feature_columns=feature_columns, n_classes=10)\n",
        "classifier.fit(data, labels, batch_size=100, steps=1000)\n",
        "\n",
        "classifier.evaluate(test_data, test_labels)\n",
        "print(classifier.evaluate(test_data, test_labels)[\"accuracy\"])\n"
      ],
      "execution_count": 28,
      "outputs": [
        {
          "output_type": "stream",
          "text": [
            "Extracting MNIST-data/train-images-idx3-ubyte.gz\n",
            "Extracting MNIST-data/train-labels-idx1-ubyte.gz\n",
            "Extracting MNIST-data/t10k-images-idx3-ubyte.gz\n",
            "Extracting MNIST-data/t10k-labels-idx1-ubyte.gz\n",
            "0.9137\n"
          ],
          "name": "stdout"
        },
        {
          "output_type": "display_data",
          "data": {
            "image/png": "[encoded data removed]",
            "text/plain": [
              "<matplotlib.figure.Figure at 0x7faad4067320>"
            ]
          },
          "metadata": {
            "tags": []
          }
        }
      ]
    },
    {
      "metadata": {
        "id": "YCASLCWWSY-z",
        "colab_type": "text"
      },
      "cell_type": "markdown",
      "source": [
        "### No feature engineering\n",
        "- we use the raw pixels (28 * 28像素，所以我们有784个特征)\n",
        "- Classifier does the rest\n",
        "- Using the flattened representation of the image (means convert from 2D to 1D array)\n",
        "\n",
        "算法描述：\n",
        "对于每一个sample来说，784个像素表示784个feature，有10种可能的数值结果(0-9)，对应到10个标签(targets)\n",
        "也即784个input, 10个output\n",
        "\n",
        "每个input和10个output都有连接(edge)，连接还有权重值(weight)\n",
        "这里最重要的就是这个weight\n",
        "\n",
        "### Weights adjusted by gradient descent (梯度下降)\n",
        "- Begin with random weight\n",
        "- Gradually adjust to better values\n",
        "- This happens inside the fit method\n",
        "\n",
        "如果我们把计算出来的权重值用图像表示出来\n",
        "红色表示正向的权重，蓝色表示负向的权重\n",
        "那么每个点都会有一个数值，当进行预测的时候，将每个像素上的数据，跟权重值结合，看更接近哪一种标签的值"
      ]
    }
  ]
}